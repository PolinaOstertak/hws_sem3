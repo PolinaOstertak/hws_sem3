{
 "cells": [
  {
   "cell_type": "code",
   "execution_count": 1,
   "metadata": {},
   "outputs": [],
   "source": [
    "import os\n",
    "import spacy"
   ]
  },
  {
   "cell_type": "code",
   "execution_count": 14,
   "metadata": {},
   "outputs": [],
   "source": [
    "class InputDirectory:\n",
    "    def __set__(self, instance, value):\n",
    "        if not os.path.exists(value):\n",
    "            raise FileNotFoundError('Директория не найдена')\n",
    "        self.value = value\n",
    "\n",
    "    def __get__(self, instance, owner):\n",
    "        return self.value\n",
    "    \n",
    "class OutputDirectory:\n",
    "    forbidden_symbols = [':', '?', '*', '\\\\', '<', '>', '|', '/', '\"',] # символы, которых не должно быть в названии\n",
    "\n",
    "    def __set__(self, instance, value):\n",
    "        for symbol in self.forbidden_symbols:\n",
    "          if symbol in value:\n",
    "            raise ValueError('В названии содержаться недопустимые символы')\n",
    "        self.value = value\n",
    "\n",
    "    def __get__(self, instance, owner):\n",
    "        return self.value\n",
    "    \n",
    "    "
   ]
  },
  {
   "cell_type": "code",
   "execution_count": 15,
   "metadata": {},
   "outputs": [],
   "source": [
    "class CorpusCreator:\n",
    "    input_dir = InputDirectory()\n",
    "    output_dir = OutputDirectory()\n",
    "    def __init__(self, input_dir, output_dir):\n",
    "        self.input_dir = input_dir\n",
    "        self.output_dir = output_dir\n",
    "        self.nlp = spacy.load(\"en_core_web_sm\")\n",
    "    \n",
    "    def openfile(self, file_path):\n",
    "        try:\n",
    "          with open(file_path, 'r', encoding='utf-8') as f:\n",
    "            return f.read()  \n",
    "        except UnicodeDecodeError: # если не в utf-8\n",
    "          with open('errors.txt', 'a', encoding='utf-8') as l: # сообщение об ошибке в отдельный файл\n",
    "            l.write(f'Файл {file_path} не открылся из-за ошибки кодировки')\n",
    "          return None # файл пропускается\n",
    "        \n",
    "    def parse(self, text):\n",
    "        doc = self.nlp(text)\n",
    "        return doc\n",
    "    \n",
    "    def writefile(self, output_path, doc):\n",
    "        with open(output_path, 'w', encoding='utf-8') as f:\n",
    "            for w in doc:\n",
    "              f.write(f'{w.text}\\t{w.pos_}\\n') # записываю только слово и его часть речи\n",
    "\n",
    "    def process(self):\n",
    "        if not os.path.exists(self.output_dir):\n",
    "            os.makedirs(self.output_dir)\n",
    "\n",
    "        for root, dirs, files in os.walk(self.input_dir):\n",
    "            for file in files:\n",
    "                if file.endswith('.txt'): # чтобы попадали только текстовые файлы\n",
    "                    file_path = os.path.join(root, file)\n",
    "                    text = self.openfile(file_path)\n",
    "\n",
    "                    if text is not None:\n",
    "                        doc = self.parse(text)\n",
    "                        output_file_name = os.path.splitext(file)[0] + '.conllu' # файл называется так же как раньше, только теперь .conllu\n",
    "                        output_path = os.path.join(self.output_dir, output_file_name)\n",
    "                        self.writefile(output_path, doc)\n",
    "      \n",
    "        \n",
    "    \n"
   ]
  },
  {
   "cell_type": "code",
   "execution_count": null,
   "metadata": {},
   "outputs": [],
   "source": [
    "corpus_creator = CorpusCreator('texts', 'textss')\n",
    "corpus_creator.process()"
   ]
  }
 ],
 "metadata": {
  "kernelspec": {
   "display_name": "Python 3",
   "language": "python",
   "name": "python3"
  },
  "language_info": {
   "codemirror_mode": {
    "name": "ipython",
    "version": 3
   },
   "file_extension": ".py",
   "mimetype": "text/x-python",
   "name": "python",
   "nbconvert_exporter": "python",
   "pygments_lexer": "ipython3",
   "version": "3.9.13"
  }
 },
 "nbformat": 4,
 "nbformat_minor": 2
}
