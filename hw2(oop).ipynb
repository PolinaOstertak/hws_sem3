{
 "cells": [
  {
   "cell_type": "markdown",
   "metadata": {},
   "source": [
    "Задача 1. Разовьем тему с бойцами. Напишите игру (можно взять свой старый код в качестве базы), где игроку будет предложено выбрать класс героя: волшебник или боец. Вы должны учесть возможность добавления новых игровых классов (используйте наследование). У волшебника и бойца немного разные атрибуты (можно атрибуты сделать одинаковые в классе-родителе, но разные коэффициенты в классах-детях, на которые они домножаются: например, здоровье волшебника будет 1.0 от стандартного значения, а здоровье бойца - 1.5, а с маной наоборот). Также у них будут разные методы \"нанести удар\" и, если хотите, приветствия. Также у нашего героя, кем бы он ни был, должен быть рюкзак, в котором можно рыться и хранить ограниченный набор вещей (в частности, там хранятся зелья: по умолчанию пусть в начале игры каждому персонажу дается по три зелья). Наконец, нужен класс для противника: можете придумать любого монстра (тоже с возможностью добавления новых монстров, очевидно), с которым герой будет сражаться. Во время сражения неплохо предоставлять игроку выбор вида \"нанести удар - выпить зелье\", а сам урон от удара можно немного рандомизировать с помощью одноименного модуля. Можно еще реализовать и метод sleep для мирного времени, но во время боя он, конечно, не понадобится."
   ]
  },
  {
   "cell_type": "code",
   "execution_count": 253,
   "metadata": {},
   "outputs": [],
   "source": [
    "import random"
   ]
  },
  {
   "cell_type": "code",
   "execution_count": 302,
   "metadata": {},
   "outputs": [],
   "source": [
    "class Hero:\n",
    "    def __init__(self, name, health_coef, mana_coef):\n",
    "        self.name = name\n",
    "        self.base_health = 70\n",
    "        self.base_mana = 70\n",
    "        self.health = self.base_health * health_coef\n",
    "        self.mana = self.base_mana * mana_coef\n",
    "        self.backpack = Backpack()\n",
    "    def attack(self):\n",
    "        raise NotImplementedError\n",
    "    def loss(self,damage):\n",
    "        self.health -= damage\n",
    "        if self.health < 0:\n",
    "            self.health = 0 # чтобы не значение не уходило в минус\n",
    "        print(f'Теперь уровень здоровья {self.name} составляет {self.health}')\n",
    "    def __str__(self):\n",
    "        return f'{self.name} (Здоровье: {self.health}, Мана: {self.mana})'\n",
    "    \n",
    "\n",
    "class Wizard(Hero):\n",
    "    def __init__(self, name):\n",
    "        health_coef = 1\n",
    "        mana_coef = 1.5\n",
    "        super().__init__(name, health_coef, mana_coef)\n",
    "    def attack(self, enemy):\n",
    "        damage = random.randint(10, 25)\n",
    "        print(f'Своим заклинанием {self.name} наносит урон {damage}')\n",
    "        self.mana -= 0.5 * damage\n",
    "        enemy.loss(damage)\n",
    "        if damage >= 22: # За особо сильный удар в награду дается одно зелье\n",
    "            self.backpack['зелья'] += 1\n",
    "            print('Вы получили в награду одно зелье')\n",
    "\n",
    "class Warrior(Hero):\n",
    "    def __init__(self, name):\n",
    "        health_coef = 1.5\n",
    "        mana_coef = 1\n",
    "        super().__init__(name, health_coef, mana_coef)\n",
    "    def attack(self, enemy):\n",
    "        damage = random.randint(13, 28)\n",
    "        print(f'Своим мечом {self.name} наносит урон {damage}')\n",
    "        if damage >= 25:\n",
    "            self.mana -= 2\n",
    "        enemy.loss(damage)\n",
    "        if damage >= 25:\n",
    "            self.backpack['зелья'] += 1\n",
    "            print('Вы получили в награду одно зелье')\n",
    "            "
   ]
  },
  {
   "cell_type": "code",
   "execution_count": 303,
   "metadata": {},
   "outputs": [],
   "source": [
    "class Enemy:\n",
    "    def __init__(self, health):\n",
    "        self.health = health\n",
    "    def loss(self, damage):\n",
    "        self.health -= damage\n",
    "        if self.health < 0:\n",
    "            self.health = 0\n",
    "        print(f'Теперь уровень здоровья врага составляет {self.health}')\n",
    "    def attack(self):\n",
    "        raise NotImplementedError\n",
    "    \n",
    "class Goblin(Enemy):\n",
    "    def __init__(self):\n",
    "        health = 80\n",
    "        super().__init__(health)\n",
    "    def attack(self, hero):\n",
    "        damage = random.randint(5, 25)\n",
    "        print(f'Гоблин наносит урон {damage}')\n",
    "        hero.loss(damage)\n",
    "    "
   ]
  },
  {
   "cell_type": "code",
   "execution_count": 304,
   "metadata": {},
   "outputs": [],
   "source": [
    "class Backpack:\n",
    "    def __init__(self):\n",
    "        self.items = {'зелья': 0}\n",
    "\n",
    "    def use_potion(self):\n",
    "        if self.items['зелья'] > 0:\n",
    "            self.items['зелья'] -= 1\n",
    "            hupgrade = 20 # добавляется к здоровью при использовании зелья\n",
    "            mupgrade = 10 # добывляется к мане\n",
    "            print(f'Использовано зелье: здоровье + {hupgrade}, мана + {mupgrade}')\n",
    "            return hupgrade, mupgrade\n",
    "        else:\n",
    "            print('Зелья закончились')\n",
    "            hupgrade = 0\n",
    "            mupgrade = 0\n",
    "\n",
    "    def __getitem__(self, item):\n",
    "        return self.items.get(item, 0)\n",
    "\n",
    "    def __setitem__(self, item, count):\n",
    "        self.items[item] = count\n",
    "\n",
    "    def __iter__(self):\n",
    "        return iter(self.items.items())\n",
    "    "
   ]
  },
  {
   "cell_type": "code",
   "execution_count": 305,
   "metadata": {},
   "outputs": [],
   "source": [
    "class Game:\n",
    "    def __init__(self):\n",
    "        self.hero = None\n",
    "        \n",
    "        \n",
    "        \n",
    "    def play(self):\n",
    "        \n",
    "        enemy = Goblin()\n",
    "        hero_choice = input('Выберите персонажа:1. Волшебник 2. Боец')\n",
    "        hero_name = input('Введите имя')\n",
    "        if hero_choice == '1':\n",
    "          self.hero = Wizard(hero_name)\n",
    "        elif hero_choice == '2':\n",
    "          self.hero = Warrior(hero_name)\n",
    "        else:\n",
    "           print('Некорректный выбор')\n",
    "        self.hero.backpack['зелья'] = 3  \n",
    "        potions_available = self.hero.backpack['зелья']\n",
    "        print(f'У вас есть {potions_available} зелий')  \n",
    "        print('Игра началась')\n",
    "        while enemy.health > 0 and self.hero.health > 0:\n",
    "           choice = input('Выберите действие: 1.Нанести удар 2. Выпить зелье')\n",
    "           if choice == '1':\n",
    "              damage = self.hero.attack(enemy)\n",
    "           elif choice == '2':\n",
    "              hupgrade, mupgrade = self.hero.backpack.use_potion()\n",
    "              self.hero.health += hupgrade\n",
    "              self.hero.mana += mupgrade\n",
    "              print(self.hero)\n",
    "           else:\n",
    "                print('Неверный выбор действия')\n",
    "                continue\n",
    "           for item, count in self.hero.backpack:\n",
    "              print(f'{item}: {count}')\n",
    "           print(self.hero)\n",
    "           \n",
    "\n",
    "           if enemy.health > 0:\n",
    "                enemy.attack(self.hero)\n",
    "\n",
    "        if self.hero.health <= 0:\n",
    "            print(f'{self.hero.name} погиб!')\n",
    "        else:\n",
    "            print(f'{self.hero.name} победил врага!')\n",
    "\n",
    "              \n",
    "              \n",
    "              \n",
    "        "
   ]
  },
  {
   "cell_type": "code",
   "execution_count": 306,
   "metadata": {},
   "outputs": [
    {
     "name": "stdout",
     "output_type": "stream",
     "text": [
      "У вас есть 3 зелий\n",
      "Игра началась\n",
      "Своим заклинанием Bob наносит урон 18\n",
      "Теперь уровень здоровья врага составляет 62\n",
      "зелья: 3\n",
      "Bob (Здоровье: 70, Мана: 96.0)\n",
      "Гоблин наносит урон 20\n",
      "Теперь уровень здоровья Bob составляет 50\n",
      "Своим заклинанием Bob наносит урон 18\n",
      "Теперь уровень здоровья врага составляет 44\n",
      "зелья: 3\n",
      "Bob (Здоровье: 50, Мана: 87.0)\n",
      "Гоблин наносит урон 23\n",
      "Теперь уровень здоровья Bob составляет 27\n",
      "Использовано зелье: здоровье + 20, мана + 10\n",
      "Bob (Здоровье: 47, Мана: 97.0)\n",
      "зелья: 2\n",
      "Bob (Здоровье: 47, Мана: 97.0)\n",
      "Гоблин наносит урон 13\n",
      "Теперь уровень здоровья Bob составляет 34\n",
      "Своим заклинанием Bob наносит урон 13\n",
      "Теперь уровень здоровья врага составляет 31\n",
      "зелья: 2\n",
      "Bob (Здоровье: 34, Мана: 90.5)\n",
      "Гоблин наносит урон 5\n",
      "Теперь уровень здоровья Bob составляет 29\n",
      "Своим заклинанием Bob наносит урон 22\n",
      "Теперь уровень здоровья врага составляет 9\n",
      "Вы получили в награду одно зелье\n",
      "зелья: 3\n",
      "Bob (Здоровье: 29, Мана: 79.5)\n",
      "Гоблин наносит урон 21\n",
      "Теперь уровень здоровья Bob составляет 8\n",
      "Использовано зелье: здоровье + 20, мана + 10\n",
      "Bob (Здоровье: 28, Мана: 89.5)\n",
      "зелья: 2\n",
      "Bob (Здоровье: 28, Мана: 89.5)\n",
      "Гоблин наносит урон 12\n",
      "Теперь уровень здоровья Bob составляет 16\n",
      "Своим заклинанием Bob наносит урон 14\n",
      "Теперь уровень здоровья врага составляет 0\n",
      "зелья: 2\n",
      "Bob (Здоровье: 16, Мана: 82.5)\n",
      "Bob победил врага!\n"
     ]
    }
   ],
   "source": [
    "game = Game()\n",
    "game.play()"
   ]
  },
  {
   "cell_type": "markdown",
   "metadata": {},
   "source": [
    "Зададча 2. Вспомним задачу токенизации. Напишите собственный простенький токенизатор (с самим процессом можно не сильно заморачиваться), который будет создавать генератор с объектами класса Token, у которых будет атрибут text и атрибут category (латинское слово, кириллическое слово или пунктуация). Токенизатор должен быть реализован в классе, у которого должна быть (генераторная) функция tokenize(). Вам понадобится отдельный класс для токенов и re.finditer()."
   ]
  },
  {
   "cell_type": "code",
   "execution_count": 299,
   "metadata": {},
   "outputs": [],
   "source": [
    "import re\n",
    "\n",
    "class Token:\n",
    "    def __init__(self, text, category):\n",
    "        self.text = text\n",
    "        self.category = category\n",
    "    def __repr__(self):\n",
    "        return f\"'{self.text}' : {self.category}\"\n",
    "\n",
    "class Tokenizer:\n",
    "    def __init__(self):\n",
    "        self.pattern = re.compile(r'([a-zA-Z]+|[а-яА-ЯёЁ]+|[.,!?;:()\"-])')\n",
    "    def tokenize(self, text):\n",
    "        matches = re.finditer(self.pattern, text)\n",
    "        for match in matches:\n",
    "            token = match.group(0) \n",
    "            if re.match(r'[a-zA-Z]+', token):\n",
    "                category = 'латинское слово'\n",
    "            elif re.match(r'[а-яА-ЯёЁ]+', token):\n",
    "                category = 'кириллическое слово'\n",
    "            else:\n",
    "                category = 'пунктуация'\n",
    "\n",
    "            yield Token(token, category)\n",
    "\n",
    "            "
   ]
  },
  {
   "cell_type": "code",
   "execution_count": 301,
   "metadata": {},
   "outputs": [
    {
     "name": "stdout",
     "output_type": "stream",
     "text": [
      "'Катя' : кириллическое слово\n",
      "',' : пунктуация\n",
      "'Лена' : кириллическое слово\n",
      "'и' : кириллическое слово\n",
      "'Женя' : кириллическое слово\n",
      "'пошли' : кириллическое слово\n",
      "'в' : кириллическое слово\n",
      "'магазин' : кириллическое слово\n",
      "'Gloria' : латинское слово\n",
      "'Jeans' : латинское слово\n",
      "'!' : пунктуация\n"
     ]
    }
   ],
   "source": [
    "tokenizer = Tokenizer()\n",
    "text = input()\n",
    "tokens = tokenizer.tokenize(text)\n",
    "\n",
    "for token in tokens:\n",
    "    print(token)\n"
   ]
  },
  {
   "cell_type": "markdown",
   "metadata": {},
   "source": [
    "Вы разрабатываете игру, в которой главный герой — археолог и исследователь древних цивилизаций. Его цель — собрать и исследовать артефакты, которые разбросаны по разным древним руинам. Ваша задача — создать класс ArtifactCollector, который будет управлять коллекцией артефактов. Эта коллекция должна быть итерируемой, поддерживать сортировку и фильтрацию артефактов по разным критериям."
   ]
  },
  {
   "cell_type": "code",
   "execution_count": 220,
   "metadata": {},
   "outputs": [],
   "source": [
    "class Artifact:\n",
    "    def __init__(self, name, age, origin, rarity):\n",
    "        self.name = name\n",
    "        self.age = age\n",
    "        self.origin = origin\n",
    "        self.rarity = rarity\n",
    "\n",
    "\n",
    "class ArtifactCollector:\n",
    "    def __init__(self):\n",
    "        self.artifacts = []\n",
    "    def add_artifact(self, artifact):\n",
    "        self.artifacts.append(artifact)\n",
    "    def __iter__(self):\n",
    "        return iter(self.artifacts)\n",
    "    def sort_by_age(self):\n",
    "        self.artifacts = sorted(self.artifacts, key=lambda artifact: artifact.age)\n",
    "    def filter_by_origin(self, origin):\n",
    "        return [artifact for artifact in self.artifacts if artifact.origin == origin]\n",
    "    def filter_by_rarity(self, rarity):\n",
    "        return [artifact for artifact in self.artifacts if artifact.rarity == rarity]\n",
    "    def __reversed__(self):\n",
    "        return iter(reversed(self.artifacts))\n",
    "    def find_oldest(self):\n",
    "        return max(self.artifacts, key=lambda artifact: artifact.age)\n",
    "    \n",
    "    def find_by_name(self, name):\n",
    "        return next((artifact for artifact in self.artifacts if artifact.name == name), None)\n",
    "\n",
    "\n"
   ]
  },
  {
   "cell_type": "code",
   "execution_count": 221,
   "metadata": {},
   "outputs": [],
   "source": [
    "mask = Artifact(\"Golden Mask\", 3000, \"Egypt\", \"legendary\")\n",
    "vase = Artifact(\"Ancient Vase\", 2000, \"Greece\", \"rare\")\n",
    "statue = Artifact(\"Stone Statue\", 1500, \"Aztec\", \"common\")\n",
    "amulet = Artifact(\"Amulet of Anubis\", 5000, \"Egypt\", \"legendary\")"
   ]
  },
  {
   "cell_type": "code",
   "execution_count": 222,
   "metadata": {},
   "outputs": [],
   "source": [
    "collector = ArtifactCollector()\n",
    "collector.add_artifact(mask)\n",
    "collector.add_artifact(vase)\n",
    "collector.add_artifact(statue)\n",
    "collector.add_artifact(amulet)"
   ]
  },
  {
   "cell_type": "code",
   "execution_count": 223,
   "metadata": {},
   "outputs": [
    {
     "name": "stdout",
     "output_type": "stream",
     "text": [
      "Все артефакты:\n",
      "Golden Mask\n",
      "Ancient Vase\n",
      "Stone Statue\n",
      "Amulet of Anubis\n"
     ]
    }
   ],
   "source": [
    "print(\"Все артефакты:\")\n",
    "for artifact in collector:\n",
    "    print(artifact.name)"
   ]
  },
  {
   "cell_type": "code",
   "execution_count": 224,
   "metadata": {},
   "outputs": [
    {
     "name": "stdout",
     "output_type": "stream",
     "text": [
      "\n",
      "Артефакты в обратном порядке:\n",
      "Amulet of Anubis\n",
      "Stone Statue\n",
      "Ancient Vase\n",
      "Golden Mask\n"
     ]
    }
   ],
   "source": [
    "print(\"\\nАртефакты в обратном порядке:\")\n",
    "for artifact in reversed(collector):\n",
    "    print(artifact.name)"
   ]
  },
  {
   "cell_type": "code",
   "execution_count": 225,
   "metadata": {},
   "outputs": [
    {
     "name": "stdout",
     "output_type": "stream",
     "text": [
      "\n",
      "Артефакты по возрасту:\n",
      "Stone Statue: 1500 лет\n",
      "Ancient Vase: 2000 лет\n",
      "Golden Mask: 3000 лет\n",
      "Amulet of Anubis: 5000 лет\n"
     ]
    }
   ],
   "source": [
    "print(\"\\nАртефакты по возрасту:\")\n",
    "collector.sort_by_age()\n",
    "for artifact in collector:\n",
    "    print(f\"{artifact.name}: {artifact.age} лет\")"
   ]
  },
  {
   "cell_type": "code",
   "execution_count": 226,
   "metadata": {},
   "outputs": [
    {
     "name": "stdout",
     "output_type": "stream",
     "text": [
      "\n",
      "Артефакты из Египта:\n",
      "Golden Mask\n",
      "Amulet of Anubis\n"
     ]
    }
   ],
   "source": [
    "print(\"\\nАртефакты из Египта:\")\n",
    "for artifact in collector.filter_by_origin(\"Egypt\"):\n",
    "    print(artifact.name)"
   ]
  },
  {
   "cell_type": "code",
   "execution_count": 227,
   "metadata": {},
   "outputs": [
    {
     "name": "stdout",
     "output_type": "stream",
     "text": [
      "\n",
      "Самый древний артефакт: Amulet of Anubis (5000 лет)\n"
     ]
    }
   ],
   "source": [
    "oldest = collector.find_oldest()\n",
    "print(f\"\\nСамый древний артефакт: {oldest.name} ({oldest.age} лет)\")"
   ]
  },
  {
   "cell_type": "code",
   "execution_count": 228,
   "metadata": {},
   "outputs": [
    {
     "name": "stdout",
     "output_type": "stream",
     "text": [
      "\n",
      "Артефакт найден: Ancient Vase, 2000 лет, Greece\n"
     ]
    }
   ],
   "source": [
    "artifact = collector.find_by_name(\"Ancient Vase\")\n",
    "if artifact:\n",
    "    print(f\"\\nАртефакт найден: {artifact.name}, {artifact.age} лет, {artifact.origin}\")\n",
    "else:\n",
    "    print(\"\\nАртефакт не найден\")"
   ]
  },
  {
   "cell_type": "code",
   "execution_count": 250,
   "metadata": {},
   "outputs": [],
   "source": [
    "class Game:\n",
    "    def __init__(self):\n",
    "        self.collector = ArtifactCollector()\n",
    "        self.possible_artifacts = [Artifact(\"Golden Mask\", 3000, \"Egypt\", \"legendary\"), Artifact(\"Ancient Vase\", 2000, \"Greece\", \"rare\"), Artifact(\"Stone Statue\", 1500, \"Aztec\", \"common\"), Artifact(\"Amulet of Anubis\", 5000, \"Egypt\", \"legendary\")]\n",
    "    def choose_artifact(self):\n",
    "        rarity_choices = {'common': 0.5, 'rare': 0.1, 'legendary': 0.03} # вероятности для артефактов разной степени редкости\n",
    "        random_value = random.random()\n",
    "        if random_value < rarity_choices['legendary']:\n",
    "            rarity = 'legendary'\n",
    "        elif random_value <  rarity_choices['rare']:\n",
    "            rarity = 'rare'\n",
    "        elif random_value <  rarity_choices['common']:\n",
    "            rarity = 'common'\n",
    "        else:\n",
    "            return None\n",
    "        filtered_artifacts = [artifact for artifact in self.possible_artifacts if artifact.rarity == rarity] # смотрим все что подходит\n",
    "        if filtered_artifacts:\n",
    "            chosen_artifact = random.choice(filtered_artifacts) # из этого рандомно выбирается один\n",
    "            self.collector.add_artifact(chosen_artifact)\n",
    "            return chosen_artifact\n",
    "\n",
    "        return None\n",
    "    def play(self):\n",
    "        while True:\n",
    "            choice = input('Выберите действие:\\n1. Искать артефакт\\n2. Посмотреть все собранные артефакты\\n3. Посмотреть последние собранные артефакты\\n4. Сортировать артефакты по возрасту\\n5. Найти самый древний артефакт\\n6. Искать артефакт по имени\\n7. Искать артефакты по происхождению\\n8. Выйти')\n",
    "            if choice == '1':\n",
    "                artifact = self.choose_artifact()\n",
    "                if artifact:\n",
    "                    print(f'Найденный артефакт: {artifact.name}, Age: {artifact.age}, Origin: {artifact.origin}, Rarity: {artifact.rarity}')\n",
    "                else:\n",
    "                    print('Пока Вы ничего не нашли') # артефакт не обязательно удается найти сразу\n",
    "            elif choice == '2':\n",
    "                print('Все артефакты:')\n",
    "                for artifact in self.collector:\n",
    "                    print(artifact.name)\n",
    "            elif choice == '3':\n",
    "                print('\\nАртефакты в обратном порядке:')\n",
    "                for artifact in reversed(self.collector):\n",
    "                    print(artifact.name)\n",
    "            elif choice == '4':\n",
    "                self.collector.sort_by_age()\n",
    "                for artifact in self.collector:\n",
    "                    print(f'Артефакты по возрасту: {artifact.name}: {artifact.age} лет')\n",
    "            elif choice == '5':\n",
    "                oldest = self.collector.find_oldest()\n",
    "                print(f'\\nСамый древний артефакт: {oldest.name} ({oldest.age} лет)')\n",
    "            elif choice == '6':\n",
    "                name = input('Введите название артефакта:')\n",
    "                artifact = self.collector.find_by_name(name)\n",
    "                if artifact:\n",
    "                    print(f'Артефакт найден: {artifact.name}, Age: {artifact.age}, Origin: {artifact.origin}, Rarity: {artifact.rarity}')\n",
    "                else:\n",
    "                    print('Артефакт не найден')\n",
    "            elif choice == '7':\n",
    "                origin = input('Введите происхождение: ')\n",
    "                artifact = self.collector.filter_by_origin(origin)\n",
    "                if artifact:\n",
    "                    print(f'Артефакт найден: {artifact.name}, Age: {artifact.age}, Origin: {artifact.origin}, Rarity: {artifact.rarity}')\n",
    "                else:\n",
    "                    print('Артефакт не найден')\n",
    "                \n",
    "            elif choice == '8':\n",
    "                break\n"
   ]
  },
  {
   "cell_type": "code",
   "execution_count": 251,
   "metadata": {},
   "outputs": [
    {
     "name": "stdout",
     "output_type": "stream",
     "text": [
      "Найденный артефакт: Stone Statue, Age: 1500, Origin: Aztec, Rarity: common\n",
      "Пока Вы ничего не нашли\n",
      "Пока Вы ничего не нашли\n",
      "Пока Вы ничего не нашли\n",
      "Найденный артефакт: Ancient Vase, Age: 2000, Origin: Greece, Rarity: rare\n",
      "Пока Вы ничего не нашли\n",
      "Найденный артефакт: Stone Statue, Age: 1500, Origin: Aztec, Rarity: common\n",
      "Найденный артефакт: Stone Statue, Age: 1500, Origin: Aztec, Rarity: common\n",
      "Артефакт не найден\n",
      "Пока Вы ничего не нашли\n",
      "Все артефакты:\n",
      "Stone Statue\n",
      "Ancient Vase\n",
      "Stone Statue\n",
      "Stone Statue\n",
      "Пока Вы ничего не нашли\n",
      "\n",
      "Артефакты в обратном порядке:\n",
      "Stone Statue\n",
      "Stone Statue\n",
      "Ancient Vase\n",
      "Stone Statue\n",
      "Найденный артефакт: Ancient Vase, Age: 2000, Origin: Greece, Rarity: rare\n",
      "Найденный артефакт: Stone Statue, Age: 1500, Origin: Aztec, Rarity: common\n",
      "Артефакты по возрасту: Stone Statue: 1500 лет\n",
      "Артефакты по возрасту: Stone Statue: 1500 лет\n",
      "Артефакты по возрасту: Stone Statue: 1500 лет\n",
      "Артефакты по возрасту: Stone Statue: 1500 лет\n",
      "Артефакты по возрасту: Ancient Vase: 2000 лет\n",
      "Артефакты по возрасту: Ancient Vase: 2000 лет\n",
      "Пока Вы ничего не нашли\n",
      "\n",
      "Самый древний артефакт: Ancient Vase (2000 лет)\n",
      "Найденный артефакт: Stone Statue, Age: 1500, Origin: Aztec, Rarity: common\n",
      "Артефакт найден: Stone Statue, Возраст: 1500, Происхождение: Aztec, Редкость: common\n",
      "Пока Вы ничего не нашли\n"
     ]
    }
   ],
   "source": [
    "game = Game()\n",
    "game.play()"
   ]
  }
 ],
 "metadata": {
  "kernelspec": {
   "display_name": "Python 3",
   "language": "python",
   "name": "python3"
  },
  "language_info": {
   "codemirror_mode": {
    "name": "ipython",
    "version": 3
   },
   "file_extension": ".py",
   "mimetype": "text/x-python",
   "name": "python",
   "nbconvert_exporter": "python",
   "pygments_lexer": "ipython3",
   "version": "3.9.13"
  }
 },
 "nbformat": 4,
 "nbformat_minor": 2
}
