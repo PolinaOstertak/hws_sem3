{
 "cells": [
  {
   "cell_type": "code",
   "execution_count": 2,
   "metadata": {},
   "outputs": [],
   "source": [
    "from time import sleep"
   ]
  },
  {
   "cell_type": "code",
   "execution_count": 42,
   "metadata": {},
   "outputs": [],
   "source": [
    "class Employee:\n",
    "\n",
    "  def __init__(self, name, surname):\n",
    "    self.name = name\n",
    "    self.surname = surname\n",
    "    self.salary = 350\n",
    "    self.bankaccount = 0\n",
    "\n",
    "  def work(self, *args):\n",
    "    raise NotImplementedError\n",
    "\n",
    "  def sleep(self, message):\n",
    "    print(message)\n",
    "\n",
    "class Linguist:\n",
    "  def __init__(self, name, surname):\n",
    "    self.employee = Employee(name, surname)  \n",
    "    self.employee.salary *= 0.7\n",
    "  def work(self, hours):\n",
    "    print(f'{self.employee.name} {self.employee.surname} занимается своими лингвистическими делами')\n",
    "    sleep(hours)\n",
    "    self.employee.bankaccount += hours * self.employee.salary\n",
    "\n",
    "  def sleep(self, message):\n",
    "    self.employee.sleep(message)\n",
    "\n",
    "  def __getattr__(self, attr):\n",
    "    print(f'{attr} is called')\n",
    "    return getattr(self.employee, attr) \n",
    "\n",
    "  def __setattr__(self, attr, value):\n",
    "    print(f'trying to set attr {attr}')\n",
    "    self.__dict__[attr] = value\n",
    "\n",
    "class Programmer:\n",
    "  def __init__(self, name, surname):\n",
    "    self.employee = Employee(name, surname)  \n",
    "    self.employee.salary *= 1.1  \n",
    "  \n",
    "  def work(self, hours):\n",
    "    print(f'{self.employee.name} {self.employee.surname} пишет код')\n",
    "    sleep(hours)\n",
    "    self.employee.bankaccount += hours * self.employee.salary\n",
    "\n",
    "  def sleep(self, message):\n",
    "    self.employee.sleep(message)\n",
    "\n",
    "  def __getattr__(self, attr):\n",
    "    print(f'{attr} is called')\n",
    "    return getattr(self.employee, attr) \n",
    "\n",
    "  def __setattr__(self, attr, value):\n",
    "    print(f'trying to set attr {attr}')\n",
    "    self.__dict__[attr] = value\n",
    "\n",
    "class ComputationalLinguist(Linguist, Programmer):\n",
    "  def __init__(self, name, surname):\n",
    "    Linguist.__init__(self, name, surname)\n",
    "    Programmer.__init__(self, name, surname)\n",
    "    self.employee.salary *= 0.9  \n",
    "    \n",
    "  def work(self, hours):\n",
    "    print(f'{self.employee.name} {self.employee.surname} работает')\n",
    "    sleep(hours)\n",
    "    self.employee.bankaccount += hours * self.employee.salary\n",
    "\n",
    "  def sleep(self, message):\n",
    "    self.employee.sleep(message)\n",
    "\n",
    "  def __getattr__(self, attr):\n",
    "    print(f'{attr} is called')\n",
    "    return getattr(self.employee, attr) \n",
    "\n",
    "  def __setattr__(self, attr, value):\n",
    "    print(f'trying to set attr {attr}')\n",
    "    self.__dict__[attr] = value\n"
   ]
  },
  {
   "cell_type": "code",
   "execution_count": 43,
   "metadata": {},
   "outputs": [],
   "source": [
    "class Boss:\n",
    "    def __init__(self, name, surname, workers):\n",
    "        self.employee = Employee(name, surname)\n",
    "        self.workers = workers\n",
    "    def make_work(self, hours):\n",
    "        raise NotImplementedError\n",
    "    \n",
    "class BossLinguist(Boss):\n",
    "    def make_work(self, hours):\n",
    "        print(f'{self.employee.name} заставляет лингвистов работать')\n",
    "        for linguist in self.workers:\n",
    "            linguist.work(hours)\n",
    "\n",
    "class BossProgrammer(Boss):\n",
    "    def make_work(self, hours):\n",
    "        print(f'{self.employee.name} выдал программистам работу')\n",
    "        for programmer in self.workers:\n",
    "            programmer.work(hours)\n",
    "\n",
    "class BossCompling(Boss):\n",
    "    def make_work(self, hours):\n",
    "        print(f'{self.employee.name} заставляет компьютерных лингвистов работать')\n",
    "        for computational_linguist in self.workers:\n",
    "            computational_linguist.work(hours)\n",
    "\n"
   ]
  },
  {
   "cell_type": "code",
   "execution_count": 44,
   "metadata": {},
   "outputs": [],
   "source": [
    "class Manager:\n",
    "    def __init__(self, bosses):\n",
    "        self.bosses = bosses\n",
    "    def give_work(self, hours):\n",
    "        print('Менеджер выдает задания боссам')\n",
    "        for boss in self.bosses:\n",
    "            boss.make_work(hours)"
   ]
  },
  {
   "cell_type": "code",
   "execution_count": 45,
   "metadata": {},
   "outputs": [
    {
     "name": "stdout",
     "output_type": "stream",
     "text": [
      "trying to set attr employee\n",
      "trying to set attr employee\n",
      "trying to set attr employee\n",
      "trying to set attr employee\n",
      "trying to set attr employee\n",
      "trying to set attr employee\n",
      "trying to set attr employee\n",
      "trying to set attr employee\n"
     ]
    }
   ],
   "source": [
    "linguists = [Linguist('Иван', 'Петров'), Linguist('Зина', 'Иванова')]\n",
    "programmers = [Programmer('Петр', 'Иванов'), Programmer('Алле', 'Шиц')]\n",
    "computational_linguists = [ComputationalLinguist('Борис', 'Сидоров'), ComputationalLinguist('Денис', 'Сойкин')]\n"
   ]
  },
  {
   "cell_type": "code",
   "execution_count": 46,
   "metadata": {},
   "outputs": [],
   "source": [
    "boss_linguist = BossLinguist('Женя','Левина', linguists)\n",
    "boss_programmer = BossProgrammer('Олег', 'Волков', programmers)\n",
    "boss_compling = BossCompling('Анна', 'Федотова', computational_linguists)"
   ]
  },
  {
   "cell_type": "code",
   "execution_count": 47,
   "metadata": {},
   "outputs": [],
   "source": [
    "manager = Manager([boss_linguist, boss_programmer, boss_compling])"
   ]
  },
  {
   "cell_type": "code",
   "execution_count": 48,
   "metadata": {},
   "outputs": [
    {
     "name": "stdout",
     "output_type": "stream",
     "text": [
      "Менеджер выдает задания боссам\n",
      "Женя заставляет лингвистов работать\n",
      "Иван Петров занимается своими лингвистическими делами\n",
      "Зина Иванова занимается своими лингвистическими делами\n",
      "Олег выдал программистам работу\n",
      "Петр Иванов пишет код\n",
      "Алле Шиц пишет код\n",
      "Анна заставляет компьютерных лингвистов работать\n",
      "Борис Сидоров работает\n",
      "Денис Сойкин работает\n"
     ]
    }
   ],
   "source": [
    "manager.give_work(3)"
   ]
  },
  {
   "cell_type": "markdown",
   "metadata": {},
   "source": [
    "Представьте, что вы разрабатываете игру, в которой игрок управляет флотом космических кораблей. Каждый корабль имеет свои характеристики, вооружение и экипаж. Чтобы управлять флотом, игрок должен делегировать различные задачи (например, атака, оборона, ремонт) разным кораблям и экипажу. Ваша задача — создать систему классов, которая использует композицию для организации кораблей, экипажа и вооружения, а также делегирует задачи между этими объектами."
   ]
  },
  {
   "cell_type": "code",
   "execution_count": 98,
   "metadata": {},
   "outputs": [],
   "source": [
    "class Ship:\n",
    "    def __init__(self, name, type, pilot, engineer):\n",
    "        self.name = name\n",
    "        self.type = type\n",
    "        self.pilot = pilot\n",
    "        self.engineer = engineer\n",
    "        self.durability = 100 # изначальный уровень прочности\n",
    "        self.weapons = []\n",
    "\n",
    "    def add_weapon(self, weapon):\n",
    "        self.weapons.append(weapon)\n",
    "\n",
    "    def attack(self):\n",
    "        attacks = []\n",
    "        for weapon in self.weapons:\n",
    "            attacks.append(self.pilot.attack(weapon))\n",
    "        return attacks\n",
    "\n",
    "    def repair(self):\n",
    "        return self.engineer.repair(self)\n",
    "    \n",
    "    def defend(self):\n",
    "        return self.engineer.defend(self)\n",
    "\n",
    "     \n",
    "\n",
    "    "
   ]
  },
  {
   "cell_type": "code",
   "execution_count": 118,
   "metadata": {},
   "outputs": [],
   "source": [
    "class CrewMember:\n",
    "    def __init__(self, name):\n",
    "        self.name = name\n",
    "\n",
    "class Pilot(CrewMember):\n",
    "    def attack(self, weapon):\n",
    "        print(f'пилот {self.name} использует {weapon.name} и наносит урон {weapon.damage}')\n",
    "\n",
    "class Engineer(CrewMember):\n",
    "    def repair(self, ship):\n",
    "        ship.durability = 100\n",
    "        print(f'{ship.name} отремонтирован инженером {self.name}')\n",
    "    def defend(self, ship):\n",
    "        print(f'Защита {ship.name} активирована')"
   ]
  },
  {
   "cell_type": "code",
   "execution_count": 100,
   "metadata": {},
   "outputs": [],
   "source": [
    "class Weapon:\n",
    "    def __init__(self, name, damage):\n",
    "        self.name = name\n",
    "        self.damage = damage\n",
    "    "
   ]
  },
  {
   "cell_type": "code",
   "execution_count": 101,
   "metadata": {},
   "outputs": [],
   "source": [
    "class Fleet:\n",
    "    def __init__(self):\n",
    "        self.ships = []\n",
    "    def add_ship(self, ship):\n",
    "        self.ships.append(ship)\n",
    "    def attack_all(self):\n",
    "        attacks = []\n",
    "        for ship in self.ships:\n",
    "            attacks.extend(ship.attack()) # для итерируемого объекта\n",
    "        for attack in attacks:\n",
    "            return attack\n",
    "    def repair_all(self):\n",
    "        repairs = []\n",
    "        for ship in self.ships:\n",
    "            repairs.append(ship.repair())\n",
    "        for repair in repairs:\n",
    "            return repair"
   ]
  },
  {
   "cell_type": "code",
   "execution_count": 119,
   "metadata": {},
   "outputs": [],
   "source": [
    "laser = Weapon(\"Laser Cannon\", 50)\n",
    "missile = Weapon(\"Missile Launcher\", 100)"
   ]
  },
  {
   "cell_type": "code",
   "execution_count": 120,
   "metadata": {},
   "outputs": [],
   "source": [
    "pilot = Pilot(\"John Doe\")\n",
    "engineer = Engineer(\"Jane Smith\")"
   ]
  },
  {
   "cell_type": "code",
   "execution_count": 121,
   "metadata": {},
   "outputs": [],
   "source": [
    "ship1 = Ship(\"USS Enterprise\", \"battlecruiser\", pilot, engineer)\n",
    "ship2 = Ship(\"Falcon\", \"frigate\", Pilot(\"Han Solo\"), Engineer(\"Chewbacca\"))"
   ]
  },
  {
   "cell_type": "code",
   "execution_count": 122,
   "metadata": {},
   "outputs": [],
   "source": [
    "ship1.add_weapon(laser)\n",
    "ship2.add_weapon(missile)"
   ]
  },
  {
   "cell_type": "code",
   "execution_count": 123,
   "metadata": {},
   "outputs": [],
   "source": [
    "fleet = Fleet()\n",
    "fleet.add_ship(ship1)\n",
    "fleet.add_ship(ship2)"
   ]
  },
  {
   "cell_type": "code",
   "execution_count": 124,
   "metadata": {},
   "outputs": [
    {
     "name": "stdout",
     "output_type": "stream",
     "text": [
      "Флот атакует!\n",
      "пилот John Doe использует Laser Cannon и наносит урон 50\n",
      "пилот Han Solo использует Missile Launcher и наносит урон 100\n"
     ]
    }
   ],
   "source": [
    "print(\"Флот атакует!\")\n",
    "fleet.attack_all()"
   ]
  },
  {
   "cell_type": "code",
   "execution_count": 125,
   "metadata": {},
   "outputs": [
    {
     "name": "stdout",
     "output_type": "stream",
     "text": [
      "\n",
      "Флот выполняет ремонт!\n",
      "USS Enterprise отремонтирован инженером Jane Smith\n",
      "Falcon отремонтирован инженером Chewbacca\n"
     ]
    }
   ],
   "source": [
    "print(\"\\nФлот выполняет ремонт!\")\n",
    "fleet.repair_all()"
   ]
  }
 ],
 "metadata": {
  "kernelspec": {
   "display_name": "Python 3",
   "language": "python",
   "name": "python3"
  },
  "language_info": {
   "codemirror_mode": {
    "name": "ipython",
    "version": 3
   },
   "file_extension": ".py",
   "mimetype": "text/x-python",
   "name": "python",
   "nbconvert_exporter": "python",
   "pygments_lexer": "ipython3",
   "version": "3.9.13"
  }
 },
 "nbformat": 4,
 "nbformat_minor": 2
}
